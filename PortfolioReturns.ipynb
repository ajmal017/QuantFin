{
 "cells": [
  {
   "cell_type": "code",
   "execution_count": 2,
   "metadata": {},
   "outputs": [],
   "source": [
    "import numpy as np\n",
    "import pandas as pd\n",
    "from pandas_datareader import data as wb\n",
    "import matplotlib.pyplot as plt"
   ]
  },
  {
   "cell_type": "code",
   "execution_count": 3,
   "metadata": {
    "collapsed": true
   },
   "outputs": [],
   "source": [
    "# Build a data frame with the portfolio tickers\n",
    "tickers = ['MNKD', 'ACRX', 'ECYT']\n",
    "portfolio_data = pd.DataFrame()\n",
    "for tick in tickers:\n",
    "    portfolio_data[tick] = wb.DataReader(tick, data_source=\"yahoo\", start='2017-1-1')['Adj Close']\n",
    "    "
   ]
  },
  {
   "cell_type": "code",
   "execution_count": 4,
   "metadata": {},
   "outputs": [
    {
     "name": "stdout",
     "output_type": "stream",
     "text": [
      "<class 'pandas.core.frame.DataFrame'>\n",
      "DatetimeIndex: 204 entries, 2017-01-03 to 2017-10-23\n",
      "Data columns (total 3 columns):\n",
      "MNKD    204 non-null float64\n",
      "ACRX    204 non-null float64\n",
      "ECYT    204 non-null float64\n",
      "dtypes: float64(3)\n",
      "memory usage: 6.4 KB\n"
     ]
    }
   ],
   "source": [
    "portfolio_data.info()"
   ]
  },
  {
   "cell_type": "code",
   "execution_count": 5,
   "metadata": {},
   "outputs": [
    {
     "data": {
      "text/html": [
       "<div>\n",
       "<style>\n",
       "    .dataframe thead tr:only-child th {\n",
       "        text-align: right;\n",
       "    }\n",
       "\n",
       "    .dataframe thead th {\n",
       "        text-align: left;\n",
       "    }\n",
       "\n",
       "    .dataframe tbody tr th {\n",
       "        vertical-align: top;\n",
       "    }\n",
       "</style>\n",
       "<table border=\"1\" class=\"dataframe\">\n",
       "  <thead>\n",
       "    <tr style=\"text-align: right;\">\n",
       "      <th></th>\n",
       "      <th>MNKD</th>\n",
       "      <th>ACRX</th>\n",
       "      <th>ECYT</th>\n",
       "    </tr>\n",
       "    <tr>\n",
       "      <th>Date</th>\n",
       "      <th></th>\n",
       "      <th></th>\n",
       "      <th></th>\n",
       "    </tr>\n",
       "  </thead>\n",
       "  <tbody>\n",
       "    <tr>\n",
       "      <th>2017-01-03</th>\n",
       "      <td>3.15</td>\n",
       "      <td>2.55</td>\n",
       "      <td>2.61</td>\n",
       "    </tr>\n",
       "    <tr>\n",
       "      <th>2017-01-04</th>\n",
       "      <td>3.40</td>\n",
       "      <td>2.65</td>\n",
       "      <td>2.66</td>\n",
       "    </tr>\n",
       "    <tr>\n",
       "      <th>2017-01-05</th>\n",
       "      <td>3.30</td>\n",
       "      <td>2.65</td>\n",
       "      <td>2.57</td>\n",
       "    </tr>\n",
       "    <tr>\n",
       "      <th>2017-01-06</th>\n",
       "      <td>3.35</td>\n",
       "      <td>2.60</td>\n",
       "      <td>2.67</td>\n",
       "    </tr>\n",
       "    <tr>\n",
       "      <th>2017-01-09</th>\n",
       "      <td>3.15</td>\n",
       "      <td>2.55</td>\n",
       "      <td>2.61</td>\n",
       "    </tr>\n",
       "  </tbody>\n",
       "</table>\n",
       "</div>"
      ],
      "text/plain": [
       "            MNKD  ACRX  ECYT\n",
       "Date                        \n",
       "2017-01-03  3.15  2.55  2.61\n",
       "2017-01-04  3.40  2.65  2.66\n",
       "2017-01-05  3.30  2.65  2.57\n",
       "2017-01-06  3.35  2.60  2.67\n",
       "2017-01-09  3.15  2.55  2.61"
      ]
     },
     "execution_count": 5,
     "metadata": {},
     "output_type": "execute_result"
    }
   ],
   "source": [
    "portfolio_data.head()"
   ]
  },
  {
   "cell_type": "code",
   "execution_count": 6,
   "metadata": {
    "scrolled": true
   },
   "outputs": [
    {
     "data": {
      "text/html": [
       "<div>\n",
       "<style>\n",
       "    .dataframe thead tr:only-child th {\n",
       "        text-align: right;\n",
       "    }\n",
       "\n",
       "    .dataframe thead th {\n",
       "        text-align: left;\n",
       "    }\n",
       "\n",
       "    .dataframe tbody tr th {\n",
       "        vertical-align: top;\n",
       "    }\n",
       "</style>\n",
       "<table border=\"1\" class=\"dataframe\">\n",
       "  <thead>\n",
       "    <tr style=\"text-align: right;\">\n",
       "      <th></th>\n",
       "      <th>MNKD</th>\n",
       "      <th>ACRX</th>\n",
       "      <th>ECYT</th>\n",
       "    </tr>\n",
       "    <tr>\n",
       "      <th>Date</th>\n",
       "      <th></th>\n",
       "      <th></th>\n",
       "      <th></th>\n",
       "    </tr>\n",
       "  </thead>\n",
       "  <tbody>\n",
       "    <tr>\n",
       "      <th>2017-10-17</th>\n",
       "      <td>4.75</td>\n",
       "      <td>1.75</td>\n",
       "      <td>4.35</td>\n",
       "    </tr>\n",
       "    <tr>\n",
       "      <th>2017-10-18</th>\n",
       "      <td>4.13</td>\n",
       "      <td>1.75</td>\n",
       "      <td>4.91</td>\n",
       "    </tr>\n",
       "    <tr>\n",
       "      <th>2017-10-19</th>\n",
       "      <td>3.96</td>\n",
       "      <td>1.75</td>\n",
       "      <td>4.97</td>\n",
       "    </tr>\n",
       "    <tr>\n",
       "      <th>2017-10-20</th>\n",
       "      <td>4.11</td>\n",
       "      <td>2.00</td>\n",
       "      <td>5.19</td>\n",
       "    </tr>\n",
       "    <tr>\n",
       "      <th>2017-10-23</th>\n",
       "      <td>3.70</td>\n",
       "      <td>2.03</td>\n",
       "      <td>4.75</td>\n",
       "    </tr>\n",
       "  </tbody>\n",
       "</table>\n",
       "</div>"
      ],
      "text/plain": [
       "            MNKD  ACRX  ECYT\n",
       "Date                        \n",
       "2017-10-17  4.75  1.75  4.35\n",
       "2017-10-18  4.13  1.75  4.91\n",
       "2017-10-19  3.96  1.75  4.97\n",
       "2017-10-20  4.11  2.00  5.19\n",
       "2017-10-23  3.70  2.03  4.75"
      ]
     },
     "execution_count": 6,
     "metadata": {},
     "output_type": "execute_result"
    }
   ],
   "source": [
    "portfolio_data.tail()"
   ]
  },
  {
   "cell_type": "code",
   "execution_count": 7,
   "metadata": {},
   "outputs": [
    {
     "data": {
      "text/plain": [
       "MNKD    3.15\n",
       "ACRX    2.55\n",
       "ECYT    2.61\n",
       "Name: 2017-01-03 00:00:00, dtype: float64"
      ]
     },
     "execution_count": 7,
     "metadata": {},
     "output_type": "execute_result"
    }
   ],
   "source": [
    "# Extract the very first row of the data\n",
    "portfolio_data.iloc[0]"
   ]
  },
  {
   "cell_type": "code",
   "execution_count": 8,
   "metadata": {},
   "outputs": [
    {
     "data": {
      "image/png": "[encoded data removed]",
      "text/plain": [
       "<matplotlib.figure.Figure at 0x11043b390>"
      ]
     },
     "metadata": {},
     "output_type": "display_data"
    }
   ],
   "source": [
    "# Normalize returns to 100\n",
    "(portfolio_data / portfolio_data.iloc[0] * 100).plot(figsize = (15,6));\n",
    "plt.show()"
   ]
  },
  {
   "cell_type": "code",
   "execution_count": 12,
   "metadata": {},
   "outputs": [
    {
     "data": {
      "text/html": [
       "<div>\n",
       "<style>\n",
       "    .dataframe thead tr:only-child th {\n",
       "        text-align: right;\n",
       "    }\n",
       "\n",
       "    .dataframe thead th {\n",
       "        text-align: left;\n",
       "    }\n",
       "\n",
       "    .dataframe tbody tr th {\n",
       "        vertical-align: top;\n",
       "    }\n",
       "</style>\n",
       "<table border=\"1\" class=\"dataframe\">\n",
       "  <thead>\n",
       "    <tr style=\"text-align: right;\">\n",
       "      <th></th>\n",
       "      <th>MNKD</th>\n",
       "      <th>ACRX</th>\n",
       "      <th>ECYT</th>\n",
       "    </tr>\n",
       "    <tr>\n",
       "      <th>Date</th>\n",
       "      <th></th>\n",
       "      <th></th>\n",
       "      <th></th>\n",
       "    </tr>\n",
       "  </thead>\n",
       "  <tbody>\n",
       "    <tr>\n",
       "      <th>2017-01-03</th>\n",
       "      <td>NaN</td>\n",
       "      <td>NaN</td>\n",
       "      <td>NaN</td>\n",
       "    </tr>\n",
       "    <tr>\n",
       "      <th>2017-01-04</th>\n",
       "      <td>0.079365</td>\n",
       "      <td>0.039216</td>\n",
       "      <td>0.019157</td>\n",
       "    </tr>\n",
       "    <tr>\n",
       "      <th>2017-01-05</th>\n",
       "      <td>-0.029412</td>\n",
       "      <td>0.000000</td>\n",
       "      <td>-0.033835</td>\n",
       "    </tr>\n",
       "    <tr>\n",
       "      <th>2017-01-06</th>\n",
       "      <td>0.015152</td>\n",
       "      <td>-0.018868</td>\n",
       "      <td>0.038911</td>\n",
       "    </tr>\n",
       "    <tr>\n",
       "      <th>2017-01-09</th>\n",
       "      <td>-0.059701</td>\n",
       "      <td>-0.019231</td>\n",
       "      <td>-0.022472</td>\n",
       "    </tr>\n",
       "  </tbody>\n",
       "</table>\n",
       "</div>"
      ],
      "text/plain": [
       "                MNKD      ACRX      ECYT\n",
       "Date                                    \n",
       "2017-01-03       NaN       NaN       NaN\n",
       "2017-01-04  0.079365  0.039216  0.019157\n",
       "2017-01-05 -0.029412  0.000000 -0.033835\n",
       "2017-01-06  0.015152 -0.018868  0.038911\n",
       "2017-01-09 -0.059701 -0.019231 -0.022472"
      ]
     },
     "execution_count": 12,
     "metadata": {},
     "output_type": "execute_result"
    }
   ],
   "source": [
    "# Calculate the daily returns of the portfolio\n",
    "portfolio_returns_d = (portfolio_data/portfolio_data.shift(1)) - 1\n",
    "portfolio_returns_d.head()"
   ]
  },
  {
   "cell_type": "code",
   "execution_count": 18,
   "metadata": {},
   "outputs": [
    {
     "data": {
      "text/plain": [
       "array([             nan,   5.72877427e-02,  -2.77974348e-02,\n",
       "         1.88772684e-02,  -4.44855455e-02,   1.68936540e-02,\n",
       "        -1.65791166e-02,   2.50950728e-02,   3.75460005e-02,\n",
       "        -2.73795214e-02,  -1.74300868e-02,  -3.74501486e-02,\n",
       "        -9.73732960e-03,   3.42739218e-02,  -7.66908213e-03,\n",
       "         1.49141752e-02,  -6.42845216e-03,  -8.20203081e-03,\n",
       "        -4.30091694e-02,   7.23910864e-02,   1.78409825e-03,\n",
       "        -9.38612809e-02,  -1.22980474e-02,  -2.82456140e-02,\n",
       "        -4.20637269e-02,  -8.94080997e-03,   3.43755433e-02,\n",
       "        -1.10202890e-03,   4.31966816e-02,  -3.56635522e-02,\n",
       "         5.07936508e-03,   1.81700698e-02,  -1.37896825e-02,\n",
       "        -3.58934711e-02,  -2.79603152e-02,   9.37408456e-03,\n",
       "         4.42636746e-03,   3.46078431e-02,  -7.10252683e-03,\n",
       "         3.07317073e-02,  -2.84180834e-02,  -6.31811767e-02,\n",
       "        -7.30261491e-02,   1.46013709e-02,  -2.47669106e-02,\n",
       "         5.63076037e-03,   2.71470454e-02,   2.21311475e-02,\n",
       "        -3.34226365e-03,   7.02907208e-03,   1.48514851e-02,\n",
       "         3.46389166e-02,  -8.65677153e-03,  -6.37332340e-02,\n",
       "        -9.73928675e-03,  -1.70015592e-02,  -2.11282051e-02,\n",
       "        -1.64089179e-02,  -5.17059830e-02,  -1.41788883e-02,\n",
       "        -2.69230769e-02,   1.61810989e-02,  -5.36885858e-02,\n",
       "        -2.82836036e-04,  -4.61358314e-02,  -2.43409955e-02,\n",
       "         2.48036409e-02,  -3.15789474e-02,   4.94832827e-02,\n",
       "        -3.80012772e-02,   1.02790230e-02,  -3.02396617e-02,\n",
       "        -3.01991342e-02,  -3.86468586e-02,  -3.01852654e-02,\n",
       "        -8.80961029e-02,  -1.05758726e-02,   7.43589744e-04,\n",
       "        -3.14900233e-02,   2.85496416e-02,  -8.11688312e-03,\n",
       "        -5.34828739e-03,  -4.67834793e-02,  -5.95353982e-02,\n",
       "         9.83945311e-05,   7.18344064e-02,   1.60423977e-01,\n",
       "         5.39197376e-02,   2.87177198e-01,  -1.20829685e-01,\n",
       "        -2.54383667e-02,  -3.43497537e-02,   9.09452360e-02,\n",
       "        -6.83080601e-02,  -2.00958675e-02,   2.34904961e-02,\n",
       "         1.25546836e-01,  -3.10327080e-02,  -1.73388773e-02,\n",
       "         5.35180818e-02,   4.47025007e-02,   8.09339525e-02,\n",
       "        -6.70529471e-02,   6.06501548e-02,  -1.10035816e-01,\n",
       "        -1.64756081e-02,  -2.23004328e-02,  -2.23056811e-02,\n",
       "         4.10886255e-03,  -2.01334637e-02,  -1.66544921e-02,\n",
       "        -2.36062613e-02,  -3.43367448e-02,   5.07481940e-02,\n",
       "         3.07654202e-02,   1.41114884e-02,  -3.89610390e-03,\n",
       "        -1.19126896e-02,   2.32875068e-02,  -4.70023189e-02,\n",
       "         8.62467272e-03,   9.01787647e-03,  -3.38081367e-03,\n",
       "        -4.82492548e-02,  -6.20689655e-03,  -3.83681346e-02,\n",
       "        -3.89556105e-02,  -1.96111942e-02,  -1.59867560e-02,\n",
       "        -1.60557563e-03,  -1.27328556e-02,   5.17241379e-03,\n",
       "         6.82233133e-02,   6.39572908e-03,   6.82004310e-02,\n",
       "         3.06122449e-02,  -2.79360045e-02,  -7.46022094e-03,\n",
       "        -2.27450090e-02,   7.48140748e-03,   1.49095890e-02,\n",
       "         1.41751437e-02,  -3.31018402e-02,   2.24491994e-02,\n",
       "        -2.24159402e-03,  -2.45539906e-02,  -4.26389613e-02,\n",
       "        -2.10088103e-02,   2.46555298e-02,  -2.28660260e-02,\n",
       "        -1.19513255e-02,  -1.13404565e-02,  -8.93719807e-04,\n",
       "         2.22841587e-02,   3.64780658e-02,  -4.19984387e-03,\n",
       "         7.39889648e-02,  -1.94576416e-02,   7.64136905e-03,\n",
       "        -2.55066229e-02,   1.68603612e-02,   2.04363964e-02,\n",
       "         2.53473193e-02,   2.49299319e-02,   6.88712390e-02,\n",
       "        -2.95174419e-03,   7.90105870e-02,   6.24172371e-02,\n",
       "        -5.28685189e-02,   4.96090959e-02,  -1.76916221e-02,\n",
       "         8.71772236e-04,   1.53846154e-03,   2.61004203e-02,\n",
       "         4.89941487e-02,  -1.41967995e-03,   9.77477477e-03,\n",
       "         9.80419580e-03,   6.05719115e-04,  -6.84210526e-02,\n",
       "        -1.18811881e-02,  -1.85041908e-02,   1.92325471e-02,\n",
       "         9.48527474e-03,  -1.47069597e-02,  -1.03616031e-02,\n",
       "         1.16673855e-01,   3.26302469e-03,   5.38910251e-01,\n",
       "         3.09027336e-01,   1.59506888e-01,   2.17564152e-01,\n",
       "         1.20894199e-02,   8.52868128e-03,   1.62850427e-01,\n",
       "        -1.36020350e-01,  -5.85708481e-02,  -5.33175750e-02,\n",
       "         5.38465396e-03,  -8.16419292e-02,  -3.96950998e-02,\n",
       "        -2.10313488e-02,   5.02926651e-02,  -8.37875406e-02])"
      ]
     },
     "execution_count": 18,
     "metadata": {},
     "output_type": "execute_result"
    }
   ],
   "source": [
    "# Set the weights of each asset\n",
    "weights = np.array([0.60,.10,.30])\n",
    "\n",
    "# Multiply the weight times daily return of each assets \n",
    "np.dot(portfolio_returns_d, weights)"
   ]
  },
  {
   "cell_type": "code",
   "execution_count": 15,
   "metadata": {},
   "outputs": [
    {
     "data": {
      "text/plain": [
       "MNKD    0.965676\n",
       "ACRX    0.396839\n",
       "ECYT    1.927037\n",
       "dtype: float64"
      ]
     },
     "execution_count": 15,
     "metadata": {},
     "output_type": "execute_result"
    }
   ],
   "source": [
    "# Find the average annual returns\n",
    "annual_returns = portfolio_returns_d.mean() * 250\n",
    "annual_returns"
   ]
  },
  {
   "cell_type": "code",
   "execution_count": 17,
   "metadata": {},
   "outputs": [
    {
     "name": "stdout",
     "output_type": "stream",
     "text": [
      "119.72 %\n"
     ]
    }
   ],
   "source": [
    "# now calculate the  annual portfolio expected return\n",
    "portfolio_expected = str(round(np.dot(annual_returns, weights), 5) *100) + ' %'\n",
    "print(portfolio_expected)"
   ]
  },
  {
   "cell_type": "code",
   "execution_count": 20,
   "metadata": {},
   "outputs": [],
   "source": [
    "weights_2 = np.array([0.25, 0.25, 0.25])\n",
    "portfolio_expected2 = str(round(np.dot(annual_returns, weights_2), 5)* 100) + ' %'"
   ]
  },
  {
   "cell_type": "code",
   "execution_count": 21,
   "metadata": {},
   "outputs": [
    {
     "name": "stdout",
     "output_type": "stream",
     "text": [
      "82.239 %\n"
     ]
    }
   ],
   "source": [
    "print(portfolio_expected2)"
   ]
  }
 ],
 "metadata": {
  "kernelspec": {
   "display_name": "Python 3",
   "language": "python",
   "name": "python3"
  },
  "language_info": {
   "codemirror_mode": {
    "name": "ipython",
    "version": 3
   },
   "file_extension": ".py",
   "mimetype": "text/x-python",
   "name": "python",
   "nbconvert_exporter": "python",
   "pygments_lexer": "ipython3",
   "version": "3.6.1"
  }
 },
 "nbformat": 4,
 "nbformat_minor": 2
}
