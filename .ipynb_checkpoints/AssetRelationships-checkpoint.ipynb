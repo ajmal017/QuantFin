{
 "cells": [
  {
   "cell_type": "code",
   "execution_count": 1,
   "metadata": {
    "collapsed": true
   },
   "outputs": [],
   "source": [
    "import numpy as np\n",
    "import pandas as pd\n",
    "from pandas_datareader import data as wb\n",
    "import matplotlib.pyplot as plt"
   ]
  },
  {
   "cell_type": "code",
   "execution_count": 2,
   "metadata": {
    "collapsed": true
   },
   "outputs": [],
   "source": [
    "tickers = ['MNKD', 'ACRX', 'ECYT']\n",
    "portfolio = pd.DataFrame()\n",
    "\n",
    "for t in tickers:\n",
    "    portfolio[t] = wb.DataReader(t, data_source='yahoo', start='2017-1-1')['Adj Close']\n",
    "    "
   ]
  },
  {
   "cell_type": "code",
   "execution_count": 3,
   "metadata": {
    "collapsed": true
   },
   "outputs": [],
   "source": [
    "portfolio_returns = np.log(portfolio / portfolio.shift(1))"
   ]
  },
  {
   "cell_type": "code",
   "execution_count": 4,
   "metadata": {
    "collapsed": true
   },
   "outputs": [],
   "source": [
    "# Calculate the variance of a particular assets daily returns\n",
    "MNKD_var_d = portfolio_returns['MNKD'].var()"
   ]
  },
  {
   "cell_type": "code",
   "execution_count": 5,
   "metadata": {},
   "outputs": [
    {
     "data": {
      "text/plain": [
       "0.005945858122208817"
      ]
     },
     "execution_count": 5,
     "metadata": {},
     "output_type": "execute_result"
    }
   ],
   "source": [
    "MNKD_var"
   ]
  },
  {
   "cell_type": "code",
   "execution_count": 6,
   "metadata": {
    "collapsed": true
   },
   "outputs": [],
   "source": [
    "# Annualize the var from daily returns\n",
    "MNKD_var_a = portfolio_returns['MNKD'].var() * 250"
   ]
  },
  {
   "cell_type": "code",
   "execution_count": 7,
   "metadata": {},
   "outputs": [
    {
     "data": {
      "text/plain": [
       "1.4864645305522042"
      ]
     },
     "execution_count": 7,
     "metadata": {},
     "output_type": "execute_result"
    }
   ],
   "source": [
    "MNKD_var_a"
   ]
  },
  {
   "cell_type": "code",
   "execution_count": 10,
   "metadata": {},
   "outputs": [
    {
     "data": {
      "text/html": [
       "<div>\n",
       "<style>\n",
       "    .dataframe thead tr:only-child th {\n",
       "        text-align: right;\n",
       "    }\n",
       "\n",
       "    .dataframe thead th {\n",
       "        text-align: left;\n",
       "    }\n",
       "\n",
       "    .dataframe tbody tr th {\n",
       "        vertical-align: top;\n",
       "    }\n",
       "</style>\n",
       "<table border=\"1\" class=\"dataframe\">\n",
       "  <thead>\n",
       "    <tr style=\"text-align: right;\">\n",
       "      <th></th>\n",
       "      <th>MNKD</th>\n",
       "      <th>ACRX</th>\n",
       "      <th>ECYT</th>\n",
       "    </tr>\n",
       "  </thead>\n",
       "  <tbody>\n",
       "    <tr>\n",
       "      <th>MNKD</th>\n",
       "      <td>0.005946</td>\n",
       "      <td>0.000116</td>\n",
       "      <td>0.000892</td>\n",
       "    </tr>\n",
       "    <tr>\n",
       "      <th>ACRX</th>\n",
       "      <td>0.000116</td>\n",
       "      <td>0.006374</td>\n",
       "      <td>0.001072</td>\n",
       "    </tr>\n",
       "    <tr>\n",
       "      <th>ECYT</th>\n",
       "      <td>0.000892</td>\n",
       "      <td>0.001072</td>\n",
       "      <td>0.007575</td>\n",
       "    </tr>\n",
       "  </tbody>\n",
       "</table>\n",
       "</div>"
      ],
      "text/plain": [
       "          MNKD      ACRX      ECYT\n",
       "MNKD  0.005946  0.000116  0.000892\n",
       "ACRX  0.000116  0.006374  0.001072\n",
       "ECYT  0.000892  0.001072  0.007575"
      ]
     },
     "execution_count": 10,
     "metadata": {},
     "output_type": "execute_result"
    }
   ],
   "source": [
    "# calculate the covariance matrix for the daily returns of selected assets\n",
    "cov_matrix_d = portfolio_returns.cov()\n",
    "cov_matrix_d"
   ]
  },
  {
   "cell_type": "code",
   "execution_count": 11,
   "metadata": {},
   "outputs": [
    {
     "data": {
      "text/html": [
       "<div>\n",
       "<style>\n",
       "    .dataframe thead tr:only-child th {\n",
       "        text-align: right;\n",
       "    }\n",
       "\n",
       "    .dataframe thead th {\n",
       "        text-align: left;\n",
       "    }\n",
       "\n",
       "    .dataframe tbody tr th {\n",
       "        vertical-align: top;\n",
       "    }\n",
       "</style>\n",
       "<table border=\"1\" class=\"dataframe\">\n",
       "  <thead>\n",
       "    <tr style=\"text-align: right;\">\n",
       "      <th></th>\n",
       "      <th>MNKD</th>\n",
       "      <th>ACRX</th>\n",
       "      <th>ECYT</th>\n",
       "    </tr>\n",
       "  </thead>\n",
       "  <tbody>\n",
       "    <tr>\n",
       "      <th>MNKD</th>\n",
       "      <td>1.486465</td>\n",
       "      <td>0.029033</td>\n",
       "      <td>0.223098</td>\n",
       "    </tr>\n",
       "    <tr>\n",
       "      <th>ACRX</th>\n",
       "      <td>0.029033</td>\n",
       "      <td>1.593483</td>\n",
       "      <td>0.268097</td>\n",
       "    </tr>\n",
       "    <tr>\n",
       "      <th>ECYT</th>\n",
       "      <td>0.223098</td>\n",
       "      <td>0.268097</td>\n",
       "      <td>1.893829</td>\n",
       "    </tr>\n",
       "  </tbody>\n",
       "</table>\n",
       "</div>"
      ],
      "text/plain": [
       "          MNKD      ACRX      ECYT\n",
       "MNKD  1.486465  0.029033  0.223098\n",
       "ACRX  0.029033  1.593483  0.268097\n",
       "ECYT  0.223098  0.268097  1.893829"
      ]
     },
     "execution_count": 11,
     "metadata": {},
     "output_type": "execute_result"
    }
   ],
   "source": [
    "# Annualize the covariance matrix \n",
    "cov_matrix_a = portfolio_returns.cov() * 250\n",
    "cov_matrix_a"
   ]
  },
  {
   "cell_type": "code",
   "execution_count": 13,
   "metadata": {},
   "outputs": [
    {
     "data": {
      "text/html": [
       "<div>\n",
       "<style>\n",
       "    .dataframe thead tr:only-child th {\n",
       "        text-align: right;\n",
       "    }\n",
       "\n",
       "    .dataframe thead th {\n",
       "        text-align: left;\n",
       "    }\n",
       "\n",
       "    .dataframe tbody tr th {\n",
       "        vertical-align: top;\n",
       "    }\n",
       "</style>\n",
       "<table border=\"1\" class=\"dataframe\">\n",
       "  <thead>\n",
       "    <tr style=\"text-align: right;\">\n",
       "      <th></th>\n",
       "      <th>MNKD</th>\n",
       "      <th>ACRX</th>\n",
       "      <th>ECYT</th>\n",
       "    </tr>\n",
       "  </thead>\n",
       "  <tbody>\n",
       "    <tr>\n",
       "      <th>MNKD</th>\n",
       "      <td>1.000000</td>\n",
       "      <td>0.018864</td>\n",
       "      <td>0.132968</td>\n",
       "    </tr>\n",
       "    <tr>\n",
       "      <th>ACRX</th>\n",
       "      <td>0.018864</td>\n",
       "      <td>1.000000</td>\n",
       "      <td>0.154329</td>\n",
       "    </tr>\n",
       "    <tr>\n",
       "      <th>ECYT</th>\n",
       "      <td>0.132968</td>\n",
       "      <td>0.154329</td>\n",
       "      <td>1.000000</td>\n",
       "    </tr>\n",
       "  </tbody>\n",
       "</table>\n",
       "</div>"
      ],
      "text/plain": [
       "          MNKD      ACRX      ECYT\n",
       "MNKD  1.000000  0.018864  0.132968\n",
       "ACRX  0.018864  1.000000  0.154329\n",
       "ECYT  0.132968  0.154329  1.000000"
      ]
     },
     "execution_count": 13,
     "metadata": {},
     "output_type": "execute_result"
    }
   ],
   "source": [
    "# Calculate the correlation of the daily returns of selected assets\n",
    "corr_matrix = portfolio_returns.corr()\n",
    "corr_matrix"
   ]
  },
  {
   "cell_type": "code",
   "execution_count": null,
   "metadata": {
    "collapsed": true
   },
   "outputs": [],
   "source": []
  }
 ],
 "metadata": {
  "kernelspec": {
   "display_name": "Python 3",
   "language": "python",
   "name": "python3"
  },
  "language_info": {
   "codemirror_mode": {
    "name": "ipython",
    "version": 3
   },
   "file_extension": ".py",
   "mimetype": "text/x-python",
   "name": "python",
   "nbconvert_exporter": "python",
   "pygments_lexer": "ipython3",
   "version": "3.6.1"
  }
 },
 "nbformat": 4,
 "nbformat_minor": 2
}
