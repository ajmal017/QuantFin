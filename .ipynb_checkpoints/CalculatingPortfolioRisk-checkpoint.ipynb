{
 "cells": [
  {
   "cell_type": "code",
   "execution_count": 25,
   "metadata": {
    "collapsed": true
   },
   "outputs": [],
   "source": [
    "import numpy as np\n",
    "import pandas as pd\n",
    "from pandas_datareader import data as wb\n",
    "import matplotlib.pyplot as plt"
   ]
  },
  {
   "cell_type": "code",
   "execution_count": 26,
   "metadata": {
    "collapsed": true
   },
   "outputs": [],
   "source": [
    "tickers = ['MNKD', 'ACRX', 'ECYT']\n",
    "portfolio = pd.DataFrame()\n",
    "\n",
    "for t in tickers:\n",
    "    portfolio[t] = wb.DataReader(t, data_source='yahoo', start='2017-1-1')['Adj Close']\n",
    "    "
   ]
  },
  {
   "cell_type": "code",
   "execution_count": 27,
   "metadata": {
    "collapsed": true
   },
   "outputs": [],
   "source": [
    "portfolio_returns = np.log(portfolio / portfolio.shift(1))"
   ]
  },
  {
   "cell_type": "code",
   "execution_count": 28,
   "metadata": {
    "collapsed": true
   },
   "outputs": [],
   "source": [
    "# set the weights of the portfolio\n",
    "weights = np.squeeze(np.array([0.35,.30,.35])) "
   ]
  },
  {
   "cell_type": "code",
   "execution_count": 29,
   "metadata": {},
   "outputs": [
    {
     "data": {
      "text/plain": [
       "0.67543645536738528"
      ]
     },
     "execution_count": 29,
     "metadata": {},
     "output_type": "execute_result"
    }
   ],
   "source": [
    "# Calculate the portfolio variance\n",
    "portfolio_variance = np.dot(weights.T, np.dot(portfolio_returns.cov()*250, weights))\n",
    "portfolio_variance"
   ]
  },
  {
   "cell_type": "code",
   "execution_count": 30,
   "metadata": {},
   "outputs": [
    {
     "data": {
      "text/plain": [
       "0.82184941161224012"
      ]
     },
     "execution_count": 30,
     "metadata": {},
     "output_type": "execute_result"
    }
   ],
   "source": [
    "# Calculate the portfolio volatility\n",
    "portfolio_volatility = (np.dot(weights.T,np.dot(portfolio_returns.cov()*250,weights))) ** 0.5\n",
    "portfolio_volatility"
   ]
  },
  {
   "cell_type": "code",
   "execution_count": 31,
   "metadata": {},
   "outputs": [
    {
     "name": "stdout",
     "output_type": "stream",
     "text": [
      "82.185 %\n"
     ]
    }
   ],
   "source": [
    "print(str(round(portfolio_volatility, 5)*100) + ' %')"
   ]
  },
  {
   "cell_type": "code",
   "execution_count": 45,
   "metadata": {},
   "outputs": [
    {
     "data": {
      "text/plain": [
       "MNKD    1.487002\n",
       "dtype: float64"
      ]
     },
     "execution_count": 45,
     "metadata": {},
     "output_type": "execute_result"
    }
   ],
   "source": [
    "# Calculate the annual variance for each security\n",
    "MNKD_VAR_a = portfolio_returns[['MNKD']].var() * 250\n",
    "MNKD_VAR_a"
   ]
  },
  {
   "cell_type": "code",
   "execution_count": 46,
   "metadata": {},
   "outputs": [
    {
     "data": {
      "text/plain": [
       "ACRX    1.593391\n",
       "dtype: float64"
      ]
     },
     "execution_count": 46,
     "metadata": {},
     "output_type": "execute_result"
    }
   ],
   "source": [
    "ACRX_VAR_a = portfolio_returns[['ACRX']].var() * 250\n",
    "ACRX_VAR_a"
   ]
  },
  {
   "cell_type": "code",
   "execution_count": 47,
   "metadata": {},
   "outputs": [
    {
     "data": {
      "text/plain": [
       "ECYT    1.896632\n",
       "dtype: float64"
      ]
     },
     "execution_count": 47,
     "metadata": {},
     "output_type": "execute_result"
    }
   ],
   "source": [
    "ECYT_VAR_a = portfolio_returns[['ECYT']].var() * 250\n",
    "ECYT_VAR_a"
   ]
  },
  {
   "cell_type": "code",
   "execution_count": 48,
   "metadata": {},
   "outputs": [
    {
     "name": "stdout",
     "output_type": "stream",
     "text": [
      "11.754 %\n"
     ]
    }
   ],
   "source": [
    "# Calculate diversified risk \n",
    "\n",
    "diversified_risk = portfolio_variance - (weights[0] ** 2 * float(MNKD_VAR_a)) - (weights[1] ** 2 * float(ACRX_VAR_a)) - (weights[2]**2 * float(ECYT_VAR_a))\n",
    "print(str(round(diversified_risk*100,3))+ ' %')"
   ]
  },
  {
   "cell_type": "code",
   "execution_count": 49,
   "metadata": {},
   "outputs": [
    {
     "data": {
      "text/plain": [
       "0.55790041290991321"
      ]
     },
     "execution_count": 49,
     "metadata": {},
     "output_type": "execute_result"
    }
   ],
   "source": [
    "non_diversifiable_risk = portfolio_variance - diversified_risk\n",
    "non_diversifiable_risk"
   ]
  },
  {
   "cell_type": "code",
   "execution_count": 50,
   "metadata": {},
   "outputs": [
    {
     "name": "stdout",
     "output_type": "stream",
     "text": [
      "55.79 %\n"
     ]
    }
   ],
   "source": [
    "print(str(round(non_diversifiable_risk*100,3))+ ' %')"
   ]
  },
  {
   "cell_type": "code",
   "execution_count": null,
   "metadata": {
    "collapsed": true
   },
   "outputs": [],
   "source": []
  }
 ],
 "metadata": {
  "kernelspec": {
   "display_name": "Python 3",
   "language": "python",
   "name": "python3"
  },
  "language_info": {
   "codemirror_mode": {
    "name": "ipython",
    "version": 3
   },
   "file_extension": ".py",
   "mimetype": "text/x-python",
   "name": "python",
   "nbconvert_exporter": "python",
   "pygments_lexer": "ipython3",
   "version": "3.6.1"
  }
 },
 "nbformat": 4,
 "nbformat_minor": 2
}
